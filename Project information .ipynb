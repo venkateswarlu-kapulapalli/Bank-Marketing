{
 "cells": [
  {
   "cell_type": "markdown",
   "id": "35cab1a6",
   "metadata": {},
   "source": [
    "## Bank Marketing | Who will subscribe for deposit ?\n",
    "Python · Bank Marketing Dataset\n"
   ]
  },
  {
   "cell_type": "markdown",
   "id": "2f32595f",
   "metadata": {},
   "source": [
    "### Bank Marketing Campaign\n"
   ]
  },
  {
   "cell_type": "markdown",
   "id": "0d3edbc0",
   "metadata": {},
   "source": [
    "The project focus on the analysis of a dataset of Bank Marketing which contains data or information about customers and aims to get useful insights from the data and predict if a new customer will accept a deposit offer or not.<br>\n",
    "\n",
    "#### What Is a Deposit?\n",
    "A deposit is a financial term that means money held at a bank. A deposit is a transaction involving a transfer of money to another party for safekeeping. However, a deposit can refer to a portion of money used as security or collateral for the delivery of a good.<br>\n",
    "\n"
   ]
  },
  {
   "cell_type": "markdown",
   "id": "010eb382",
   "metadata": {},
   "source": [
    "## table content "
   ]
  },
  {
   "cell_type": "markdown",
   "id": "1c93cc64",
   "metadata": {},
   "source": [
    "### Dataset contains Total 17 columns/Features :\n",
    "#### Bank Client Data\n"
   ]
  },
  {
   "cell_type": "markdown",
   "id": "7c02d1b3",
   "metadata": {},
   "source": [
    "* 1 - age : Age of customer(numeric)<br>\n",
    "* 2 - job : Job Type (categorical: 'admin.','blue-collar','entrepreneur','housemaid','management','retired','self-employed','services','student','technician','unemployed','unknown')<br>\n",
    "* 3 - marital : marital status (categorical: 'divorced','married','single','unknown')<br>\n",
    "* 4 - education (categorical: 'basic.4y','basic.6y','basic.9y','high.school','illiterate','professional.course','university.degree','unknown')<br>\n",
    "* 5 - default: has credit in default? (categorical: yes/no)<br>\n",
    "* 6 - balance: bank balance(RS)<br>\n",
    "* 7 - housing: has housing loan? (categorical: yes/no)<br>\n",
    "* 8 - loan: has personal loan? (categorical: yes/no)<br>\n",
    "    ####  Info related with the last contact of the current campaign:\n",
    "* 9 - contact: contact communication type (categorical: 'cellular','telephone')<br>\n",
    "* 10 - month: last contact month of year (categorical: 'jan', 'feb', 'mar', ..., 'nov', 'dec')<br>\n",
    "* 11 - day: last contact day of the week (categorical: 'mon','tue','wed','thu','fri')<br>\n",
    "* 12 - duration: last contact duration, in seconds (numeric). Important note: this attribute highly affects the output target (e.g., if duration=0 then y='no'). Yet, the duration is not known before a call is performed. Also, after the end of the call y is obviously known. Thus, this input should only be included for benchmark purposes and should be discarded if the intention is to have a realistic predictive model.<br>\n",
    "#### Other Attributes:\n",
    "* 13 - campaign: number of contacts performed during this campaign and for this client (numeric, includes last contact)<br>\n",
    "* 14 - pdays: number of days that passed by after the client was last contacted from a previous campaign (numeric;-1 mean\n",
    "    client was not previously contacted)<br>\n",
    "* 15 - previous: number of contacts performed before this campaign and for this client (numeric)<br>\n",
    "* 16 - poutcome: outcome of the previous marketing campaign (categorical: 'failure','nonexistent','success')<br>\n",
    "#### Output variable (desired target):\n",
    "* 17 - deposit - has the client subscribed a term deposit? (binary: yes/no)\n",
    "\n"
   ]
  },
  {
   "cell_type": "code",
   "execution_count": null,
   "id": "b3fd1853",
   "metadata": {},
   "outputs": [],
   "source": []
  }
 ],
 "metadata": {
  "kernelspec": {
   "display_name": "Python 3 (ipykernel)",
   "language": "python",
   "name": "python3"
  },
  "language_info": {
   "codemirror_mode": {
    "name": "ipython",
    "version": 3
   },
   "file_extension": ".py",
   "mimetype": "text/x-python",
   "name": "python",
   "nbconvert_exporter": "python",
   "pygments_lexer": "ipython3",
   "version": "3.9.7"
  }
 },
 "nbformat": 4,
 "nbformat_minor": 5
}
